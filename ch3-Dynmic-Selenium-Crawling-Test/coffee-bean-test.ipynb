{
 "cells": [
  {
   "cell_type": "code",
   "execution_count": null,
   "id": "initial_id",
   "metadata": {
    "collapsed": true
   },
   "outputs": [],
   "source": [
    "# https://www.coffeebeankorea.com/robots.txt\n",
    "# User-agent: *\n",
    "# Allow: /\n",
    "# 수집 모두 허용 확인.\n",
    "\n",
    "# 각 매장의 정보를 가져와서,\n",
    "# 파일 기반 저장 :csv, json\n",
    "# 데이터베이스 저장, 마리아 디비\n",
    "\n",
    "# 커피빈 사이트 -> 매장 찾기\n",
    "# https://www.coffeebeankorea.com/store/store.asp\n"
   ]
  }
 ],
 "metadata": {
  "kernelspec": {
   "display_name": "Python 3",
   "language": "python",
   "name": "python3"
  },
  "language_info": {
   "codemirror_mode": {
    "name": "ipython",
    "version": 2
   },
   "file_extension": ".py",
   "mimetype": "text/x-python",
   "name": "python",
   "nbconvert_exporter": "python",
   "pygments_lexer": "ipython2",
   "version": "2.7.6"
  }
 },
 "nbformat": 4,
 "nbformat_minor": 5
}
