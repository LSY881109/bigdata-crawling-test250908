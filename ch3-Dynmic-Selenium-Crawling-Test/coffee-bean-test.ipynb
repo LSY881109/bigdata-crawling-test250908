{
 "cells": [
  {
   "cell_type": "code",
   "id": "initial_id",
   "metadata": {
    "collapsed": true,
    "ExecuteTime": {
     "end_time": "2025-09-09T02:24:34.750889Z",
     "start_time": "2025-09-09T02:24:34.747475Z"
    }
   },
   "source": [
    "# https://www.coffeebeankorea.com/robots.txt\n",
    "# User-agent: *\n",
    "# Allow: /\n",
    "# 수집 모두 허용 확인.\n",
    "\n",
    "# 각 매장의 정보를 가져와서,\n",
    "# 파일 기반 저장 :csv, json\n",
    "# 데이터베이스 저장, 마리아 디비\n",
    "\n",
    "# 커피빈 사이트 -> 매장 찾기\n",
    "# https://www.coffeebeankorea.com/store/store.asp\n"
   ],
   "outputs": [],
   "execution_count": 1
  },
  {
   "metadata": {
    "ExecuteTime": {
     "end_time": "2025-09-09T02:24:34.798292Z",
     "start_time": "2025-09-09T02:24:34.794265Z"
    }
   },
   "cell_type": "code",
   "source": [
    "# 해당 사이트, 매장 찾기\n",
    "# 자세히 보기 커서를 가까이 가져가면 -> 자바스크립트 함수 명 확인\n",
    "# 예) storePop2('33') 이런 형식의 함수를 호출\n",
    "# 코엑스웨스틴서울점262m -> 142 -> storePop2('142')\n",
    "\n",
    "# 각 요소를 분석\n",
    "# 1. 매장명 가져오기.\n",
    "# div 태그, class=\"store_txt\" -> 하위에 h2 태그로\n",
    "\n",
    "# 2. 주소 가져오기. 3번째요소 -> 인덱스 :2\n",
    "# div 태그, class=\"store_txt\" -> 하위에 테이블 태그, class=\"store_table\" ->\n",
    "# tbody 태그 -> tr 태그 -> td 태그\n",
    "\n",
    "# 3. 전화번호 가져오기. 4번째요소 -> 인덱스 :3\n",
    "# div 태그, class=\"store_txt\" -> 하위에 테이블 태그, class=\"store_table\" ->\n",
    "# tbody 태그 -> tr 태그 -> td 태그"
   ],
   "id": "ff7093882520fbc0",
   "outputs": [],
   "execution_count": 2
  },
  {
   "metadata": {
    "ExecuteTime": {
     "end_time": "2025-09-09T02:24:38.022415Z",
     "start_time": "2025-09-09T02:24:34.827541Z"
    }
   },
   "cell_type": "code",
   "source": [
    "import time\n",
    "import json\n",
    "import pandas as pd\n",
    "import pymysql\n",
    "from bs4 import BeautifulSoup\n",
    "from selenium import webdriver\n",
    "\n",
    "def CoffeeBean_store():\n",
    "    CoffeeBean_URL = \"https://www.coffeebeankorea.com/store/store.asp\"\n",
    "    wd = webdriver.Chrome()\n",
    "\n",
    "    result = []\n",
    "\n",
    "    for i in range(1, 10):  # 마지막 매장번호(최신 매장까지 크롤링),1~395\n",
    "        wd.get(CoffeeBean_URL)\n",
    "        time.sleep(1)  # 웹페이지 연결 대기\n",
    "\n",
    "        try:\n",
    "            wd.execute_script(f\"storePop2({i})\")\n",
    "            time.sleep(3)  # 스크립트 실행 대기\n",
    "            html = wd.page_source\n",
    "            soupCB = BeautifulSoup(html, 'html.parser')\n",
    "\n",
    "            # 매장명 가져오기\n",
    "            # 1. 매장명 가져오기.\n",
    "            # div 태그, class=\"store_txt\" -> 하위에 h2 태그로\n",
    "            store_name_h2 = soupCB.select(\"div.store_txt > h2\")\n",
    "            store_name = store_name_h2[0].string.strip() if store_name_h2 else \"정보 없음\"\n",
    "\n",
    "            # 주소 및 전화번호 가져오기\n",
    "            # 2. 주소 가져오기. 3번째요소 -> 인덱스 :2\n",
    "            # div 태그, class=\"store_txt\" -> 하위에 테이블 태그, class=\"store_table\" ->\n",
    "            # tbody 태그 -> tr 태그 -> td 태그\n",
    "\n",
    "            # 3. 전화번호 가져오기. 4번째요소 -> 인덱스 :3\n",
    "            # div 태그, class=\"store_txt\" -> 하위에 테이블 태그, class=\"store_table\" ->\n",
    "            # tbody 태그 -> tr 태그 -> td 태그\n",
    "            store_info = soupCB.select(\"div.store_txt > table.store_table > tbody > tr > td\")\n",
    "            store_address = store_info[2].text.strip() if len(store_info) > 2 else \"주소 없음\"\n",
    "            store_phone = store_info[3].text.strip() if len(store_info) > 3 else \"전화번호 없음\"\n",
    "\n",
    "            print(f\"📍 매장명: {store_name} | 📍 주소: {store_address} | 📞 전화번호: {store_phone}\")\n",
    "\n",
    "            result.append({\"store\": store_name, \"address\": store_address, \"phone\": store_phone})\n",
    "\n",
    "        except Exception as e:\n",
    "            print(f\"❌ 오류 발생: {e}\")\n",
    "            continue\n",
    "\n",
    "    wd.quit()"
   ],
   "id": "afb3e01b6e8ff045",
   "outputs": [],
   "execution_count": 3
  },
  {
   "metadata": {
    "ExecuteTime": {
     "end_time": "2025-09-09T02:25:32.330136Z",
     "start_time": "2025-09-09T02:24:38.233665Z"
    }
   },
   "cell_type": "code",
   "source": [
    "def main():\n",
    "    print(\"🚀 CoffeeBean 매장 정보 크롤링 시작...\")\n",
    "    store_data = CoffeeBean_store()\n",
    "\n",
    "    # 파일 기반 저장,\n",
    "\n",
    "    # 데이터베이스 저장.\n",
    "\n",
    "if __name__ == '__main__':\n",
    "    main()"
   ],
   "id": "f60c5bb5b486804d",
   "outputs": [
    {
     "name": "stdout",
     "output_type": "stream",
     "text": [
      "🚀 CoffeeBean 매장 정보 크롤링 시작...\n",
      "📍 매장명: 정보 없음 | 📍 주소: 주소 없음 | 📞 전화번호: 전화번호 없음\n",
      "📍 매장명: 정보 없음 | 📍 주소: 주소 없음 | 📞 전화번호: 전화번호 없음\n",
      "📍 매장명: 차병원점 | 📍 주소: 서울시 강남구 논현로 566 강남차병원1층 | 📞 전화번호: 02-538-7615\n",
      "📍 매장명: 정보 없음 | 📍 주소: 주소 없음 | 📞 전화번호: 전화번호 없음\n",
      "📍 매장명: 정보 없음 | 📍 주소: 주소 없음 | 📞 전화번호: 전화번호 없음\n",
      "📍 매장명: 강남대로점 | 📍 주소: 서울시 서초구 강남대로 369 1층 | 📞 전화번호: 02-588-5778\n",
      "📍 매장명: 정보 없음 | 📍 주소: 주소 없음 | 📞 전화번호: 전화번호 없음\n",
      "📍 매장명: 정보 없음 | 📍 주소: 주소 없음 | 📞 전화번호: 전화번호 없음\n",
      "📍 매장명: 정보 없음 | 📍 주소: 주소 없음 | 📞 전화번호: 전화번호 없음\n"
     ]
    }
   ],
   "execution_count": 4
  }
 ],
 "metadata": {
  "kernelspec": {
   "display_name": "Python 3",
   "language": "python",
   "name": "python3"
  },
  "language_info": {
   "codemirror_mode": {
    "name": "ipython",
    "version": 2
   },
   "file_extension": ".py",
   "mimetype": "text/x-python",
   "name": "python",
   "nbconvert_exporter": "python",
   "pygments_lexer": "ipython2",
   "version": "2.7.6"
  }
 },
 "nbformat": 4,
 "nbformat_minor": 5
}
