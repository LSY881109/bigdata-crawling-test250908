{
 "cells": [
  {
   "cell_type": "code",
   "execution_count": null,
   "id": "initial_id",
   "metadata": {
    "collapsed": true
   },
   "outputs": [],
   "source": [
    "# 네이버 검색 API 예제 - 뉴스 검색\n",
    "import os\n",
    "import sys\n",
    "import urllib.request\n",
    "import json\n",
    "import csv\n",
    "\n",
    "\n",
    "client_id = \"9MOjST44zgBo3_WjKwr8\"\n",
    "client_secret = \"본인꺼로 작업하기\"\n",
    "encText = urllib.parse.quote(\"부산 서면 맛집\")\n",
    "url = \"https://openapi.naver.com/v1/search/blog?query=\" + encText # JSON 결과\n",
    "# url = \"https://openapi.naver.com/v1/search/blog.xml?query=\" + encText # XML 결과\n",
    "request = urllib.request.Request(url)\n",
    "request.add_header(\"X-Naver-Client-Id\",client_id)\n",
    "request.add_header(\"X-Naver-Client-Secret\",client_secret)\n",
    "response = urllib.request.urlopen(request)\n",
    "rescode = response.getcode()\n",
    "if(rescode==200):\n",
    "    response_body = response.read()\n",
    "    print(response_body.decode('utf-8'))\n",
    "\n",
    "    # 1. JSON 데이터 파싱\n",
    "    data = json.loads(response_body.decode('utf-8'))\n",
    "    items = data['items'] # 블로그 검색 결과 리스트\n",
    "\n",
    "    # 2. CSV 파일로 저장\n",
    "    filename = \"naver_news_results.csv\"\n",
    "    with open(filename, 'w', newline='', encoding='utf-8-sig') as f:\n",
    "        writer = csv.writer(f)\n",
    "\n",
    "        # CSV 헤더 작성\n",
    "        writer.writerow(['제목', '링크', '요약', '블로거 이름', '게시일'])\n",
    "\n",
    "        # 각 검색 결과를 한 행씩 작성\n",
    "        for item in items:\n",
    "            writer.writerow([\n",
    "                item['title'],\n",
    "                item['link'],\n",
    "                item['description'],\n",
    "                item['bloggername'],\n",
    "                item['postdate']\n",
    "            ])\n",
    "\n",
    "    print(f\"'{filename}' 파일로 저장되었습니다.\")\n",
    "\n",
    "else:\n",
    "    print(\"Error Code:\" + rescode)"
   ]
  }
 ],
 "metadata": {
  "kernelspec": {
   "display_name": "Python 3",
   "language": "python",
   "name": "python3"
  },
  "language_info": {
   "codemirror_mode": {
    "name": "ipython",
    "version": 2
   },
   "file_extension": ".py",
   "mimetype": "text/x-python",
   "name": "python",
   "nbconvert_exporter": "python",
   "pygments_lexer": "ipython2",
   "version": "2.7.6"
  }
 },
 "nbformat": 4,
 "nbformat_minor": 5
}
